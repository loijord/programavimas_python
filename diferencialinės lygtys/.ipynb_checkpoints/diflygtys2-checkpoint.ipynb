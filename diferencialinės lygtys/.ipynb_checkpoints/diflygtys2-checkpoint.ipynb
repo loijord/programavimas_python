{
 "cells": [
  {
   "cell_type": "code",
   "execution_count": 32,
   "metadata": {},
   "outputs": [],
   "source": [
    "import matplotlib.pyplot as plt\n",
    "import numpy as np\n",
    "from sympy import*\n",
    "init_printing(use_unicode=True)\n",
    "t = symbols('t')\n",
    "x = Function('x')\n",
    "#dsolve(x(t).diff(t,t) + x(t)*(x(t).diff(t))**3) #cant solve\n",
    "#checkodesol(eq, dsolve(eq)) \n",
    "\n",
    "#dsolve(5*x(t).diff(t,t) + x(t).diff(t)/t+t**2)\n",
    "#dsolve(2*x(t).diff(t,t) - x(t).diff(t) - x(t) - 4*t*exp(2*t)) #realiuju saknu atvejis\n",
    "#dsolve(x(t).diff(t,t) - 2*x(t).diff(t) + x(t) - t*exp(t)) #kartotiniu saknu atvejis\n",
    "#dsolve(x(t).diff(t,t) + x(t) - t*sin(t)) #kompleksiniu saknu atvejis\n",
    "#dsolve(t**2*x(t).diff(t,t) -t*x(t).diff(t) - 3*t**3) #kintamuju koeficientu atvejis\n",
    "#dsolve(t*x(t).diff(t,t) + x(t).diff(t) - t**2)\n",
    "#dsolve(t**2*x(t).diff(t,t) + t*x(t).diff(t) +x(t)-1) #Eulerio lygtis\n",
    "#dsolve(x(t).diff(t,t) + x(t)-2*t)\n",
    "#dsolve((t**2+1)*x(t).diff(t,t) -2*t*x(t).diff(t))\n",
    "solution = dsolve((t**2+1)*x(t).diff(t,t) -2*t*x(t).diff(t))"
   ]
  },
  {
   "cell_type": "code",
   "execution_count": 29,
   "metadata": {},
   "outputs": [],
   "source": [
    "def brėžk_kreivę(expr, ics, fig=None, ax=None, xlim=[-3, 3], ylim=[-2, 4], step=0.01):\n",
    "    if fig is None:\n",
    "        fig = plt.figure(figsize=(12, 12))\n",
    "    if ax is None:\n",
    "        ax = fig.gca()\n",
    "    ax.set_xlim(*xlim)\n",
    "    ax.set_ylim(*ylim)\n",
    "    \n",
    "    sol = spręsk(expr, ics)\n",
    "    if sol is not None:\n",
    "        func = np.vectorize(lambdify(t, sol.rhs, 'numpy'))\n",
    "        X = np.arange(*xlim, step)\n",
    "        try:\n",
    "            ax.plot(X, func(X), label=str(ics)+': $'+latex(sol.rhs)+'$')\n",
    "        except NameError:\n",
    "            print(sol.rhs)\n",
    "            print(f'np.arange({xlim[0]},{xlim[1]},{step})')\n",
    "            1/0\n",
    "    return fig, ax\n",
    "\n"
   ]
  }
 ],
 "metadata": {
  "kernelspec": {
   "display_name": "Python 3",
   "language": "python",
   "name": "python3"
  },
  "language_info": {
   "codemirror_mode": {
    "name": "ipython",
    "version": 3
   },
   "file_extension": ".py",
   "mimetype": "text/x-python",
   "name": "python",
   "nbconvert_exporter": "python",
   "pygments_lexer": "ipython3",
   "version": "3.7.4"
  }
 },
 "nbformat": 4,
 "nbformat_minor": 2
}
