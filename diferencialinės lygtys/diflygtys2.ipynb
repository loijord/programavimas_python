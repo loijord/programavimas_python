{
 "cells": [
  {
   "cell_type": "markdown",
   "metadata": {},
   "source": [
    "Antrame laboratoriniame darbe buvo duota spyruoklės svyravimų lygtis $\\frac{d^{2}}{d t^{2}} x{\\left(t \\right) + 2h \\frac{d}{d t} x{\\left(t \\right)} + k^2x{\\left(t \\right)}=a\\sin\\left(wt\\right)}$. Taip pat kiekviename variante buvo nurodyti parametrai $h$, $k$, $a$, $w$. Reikėjo kiekvienam variantui rasti šios lygties sprendinius duotoms pradinėms sąlygoms, pavyzdžiui:\n",
    "\n",
    "* $x(0)=1, x'(0)=1$\n",
    "\n",
    "* $x(0)=1, x'(0)=0$\n",
    "\n",
    "* $x(0)=1, x'(0)=-1$"
   ]
  },
  {
   "cell_type": "markdown",
   "metadata": {},
   "source": [
    "### Sprendimas\n",
    "Iš pradžių aprašome kintamuosius:"
   ]
  },
  {
   "cell_type": "code",
   "execution_count": 34,
   "metadata": {},
   "outputs": [],
   "source": [
    "from sympy import*\n",
    "init_printing(use_unicode=True)\n",
    "t, h, k, a, w = symbols('t h k a w')\n",
    "x = Function('x')\n",
    "eq = x(t).diff(t,t) + 2*h*x(t).diff(t) + k**2*x(t) - a*sin(w*t)"
   ]
  },
  {
   "cell_type": "markdown",
   "metadata": {},
   "source": [
    "Dabar aprašome metodą, kuris automatiškai detaliai išsprendžia kiekvieną variantą:"
   ]
  },
  {
   "cell_type": "code",
   "execution_count": 84,
   "metadata": {},
   "outputs": [],
   "source": [
    "def spręsk_detaliai(parametrai, icss=[[[0,1],[0,1]],[[0,1],[0,0]],[[0,1],[0,-1]]]):\n",
    "    '''Sprendžia lygtį x''+2hx'+k^2x=asin(wt) su parametrais h, k, a, w'''\n",
    "    \n",
    "    reikšmės = dict(zip([h,k,a,w], parametrai)) #pavyzdžiui: {h:2,k:1,a:0,w:0}\n",
    "    nauja_lygtis = eq.subs(reikšmės)\n",
    "    sprendinys = dsolve(nauja_lygtis)\n",
    "    sprendinio_išvestinė = Eq(diff(x(t)), sprendinys.rhs.diff(t))\n",
    "    \n",
    "    print(f'Lygtis atveju (h, k, a, w) = {parametrai}:')\n",
    "    display(nauja_lygtis)\n",
    "    print(f'Lygties sprendinys:')\n",
    "    display(sprendinys)\n",
    "    print(f'Lygties sprendinio išvestinė:')\n",
    "    display(sprendinio_išvestinė)\n",
    "    for ics in icss:\n",
    "        sąlyga1 = Eq(sprendinys.rhs.subs(t, ics[0][0]), ics[0][1])\n",
    "        sąlyga2 = Eq(sprendinio_išvestinė.rhs.subs(t, ics[1][0]), ics[1][1])\n",
    "        konstantos = solve([sąlyga1,sąlyga2])\n",
    "        tikslus_sprendinys = sprendinys.subs(konstantos)\n",
    "        print(f'Tarkime x({ics[0][0]})={ics[0][1]} ir x({ics[1][0]})={ics[1][1]}.')       \n",
    "        print('Tada pirma sąlyga:')\n",
    "        display(sąlyga1)\n",
    "        print('Tada antra sąlyga:')\n",
    "        display(sąlyga2)\n",
    "        print('Konstantų reikšmės:')\n",
    "        display(konstantos)\n",
    "        print(f'Tikslusis sprendinys:')\n",
    "        display(tikslus_sprendinys)\n",
    "    print('-'*120)"
   ]
  },
  {
   "cell_type": "markdown",
   "metadata": {},
   "source": [
    "Šis metodas išsprendė visus uždavinius. Taupant vietą parodysiu tik kaip sprendė paskutinį:"
   ]
  },
  {
   "cell_type": "code",
   "execution_count": 85,
   "metadata": {},
   "outputs": [
    {
     "name": "stdout",
     "output_type": "stream",
     "text": [
      "Lygtis atveju (h, k, a, w) = (0, 1, 2, 1):\n"
     ]
    },
    {
     "data": {
      "image/png": "[encoded data removed]",
      "text/latex": [
       "$\\displaystyle x{\\left(t \\right)} - 2 \\sin{\\left(t \\right)} + \\frac{d^{2}}{d t^{2}} x{\\left(t \\right)}$"
      ],
      "text/plain": [
       "                    2      \n",
       "                   d       \n",
       "x(t) - 2⋅sin(t) + ───(x(t))\n",
       "                    2      \n",
       "                  dt       "
      ]
     },
     "metadata": {},
     "output_type": "display_data"
    },
    {
     "name": "stdout",
     "output_type": "stream",
     "text": [
      "Lygties sprendinys:\n"
     ]
    },
    {
     "data": {
      "image/png": "[encoded data removed]",
      "text/latex": [
       "$\\displaystyle x{\\left(t \\right)} = C_{2} \\sin{\\left(t \\right)} + \\left(C_{1} - t\\right) \\cos{\\left(t \\right)}$"
      ],
      "text/plain": [
       "x(t) = C₂⋅sin(t) + (C₁ - t)⋅cos(t)"
      ]
     },
     "metadata": {},
     "output_type": "display_data"
    },
    {
     "name": "stdout",
     "output_type": "stream",
     "text": [
      "Lygties sprendinio išvestinė:\n"
     ]
    },
    {
     "data": {
      "image/png": "[encoded data removed]",
      "text/latex": [
       "$\\displaystyle \\frac{d}{d t} x{\\left(t \\right)} = C_{2} \\cos{\\left(t \\right)} - \\left(C_{1} - t\\right) \\sin{\\left(t \\right)} - \\cos{\\left(t \\right)}$"
      ],
      "text/plain": [
       "d                                              \n",
       "──(x(t)) = C₂⋅cos(t) - (C₁ - t)⋅sin(t) - cos(t)\n",
       "dt                                             "
      ]
     },
     "metadata": {},
     "output_type": "display_data"
    },
    {
     "name": "stdout",
     "output_type": "stream",
     "text": [
      "Tarkime x(0)=1 ir x(0)=1.\n",
      "Tada pirma sąlyga:\n"
     ]
    },
    {
     "data": {
      "image/png": "[encoded data removed]",
      "text/latex": [
       "$\\displaystyle C_{1} = 1$"
      ],
      "text/plain": [
       "C₁ = 1"
      ]
     },
     "metadata": {},
     "output_type": "display_data"
    },
    {
     "name": "stdout",
     "output_type": "stream",
     "text": [
      "Tada antra sąlyga:\n"
     ]
    },
    {
     "data": {
      "image/png": "[encoded data removed]",
      "text/latex": [
       "$\\displaystyle C_{2} - 1 = 1$"
      ],
      "text/plain": [
       "C₂ - 1 = 1"
      ]
     },
     "metadata": {},
     "output_type": "display_data"
    },
    {
     "name": "stdout",
     "output_type": "stream",
     "text": [
      "Konstantų reikšmės:\n"
     ]
    },
    {
     "data": {
      "image/png": "[encoded data removed]",
      "text/latex": [
       "$\\displaystyle \\left\\{ C_{1} : 1, \\  C_{2} : 2\\right\\}$"
      ],
      "text/plain": [
       "{C₁: 1, C₂: 2}"
      ]
     },
     "metadata": {},
     "output_type": "display_data"
    },
    {
     "name": "stdout",
     "output_type": "stream",
     "text": [
      "Tikslusis sprendinys:\n"
     ]
    },
    {
     "data": {
      "image/png": "[encoded data removed]",
      "text/latex": [
       "$\\displaystyle x{\\left(t \\right)} = \\left(1 - t\\right) \\cos{\\left(t \\right)} + 2 \\sin{\\left(t \\right)}$"
      ],
      "text/plain": [
       "x(t) = (1 - t)⋅cos(t) + 2⋅sin(t)"
      ]
     },
     "metadata": {},
     "output_type": "display_data"
    },
    {
     "name": "stdout",
     "output_type": "stream",
     "text": [
      "Tarkime x(0)=1 ir x(0)=0.\n",
      "Tada pirma sąlyga:\n"
     ]
    },
    {
     "data": {
      "image/png": "[encoded data removed]",
      "text/latex": [
       "$\\displaystyle C_{1} = 1$"
      ],
      "text/plain": [
       "C₁ = 1"
      ]
     },
     "metadata": {},
     "output_type": "display_data"
    },
    {
     "name": "stdout",
     "output_type": "stream",
     "text": [
      "Tada antra sąlyga:\n"
     ]
    },
    {
     "data": {
      "image/png": "[encoded data removed]",
      "text/latex": [
       "$\\displaystyle C_{2} - 1 = 0$"
      ],
      "text/plain": [
       "C₂ - 1 = 0"
      ]
     },
     "metadata": {},
     "output_type": "display_data"
    },
    {
     "name": "stdout",
     "output_type": "stream",
     "text": [
      "Konstantų reikšmės:\n"
     ]
    },
    {
     "data": {
      "image/png": "[encoded data removed]",
      "text/latex": [
       "$\\displaystyle \\left\\{ C_{1} : 1, \\  C_{2} : 1\\right\\}$"
      ],
      "text/plain": [
       "{C₁: 1, C₂: 1}"
      ]
     },
     "metadata": {},
     "output_type": "display_data"
    },
    {
     "name": "stdout",
     "output_type": "stream",
     "text": [
      "Tikslusis sprendinys:\n"
     ]
    },
    {
     "data": {
      "image/png": "[encoded data removed]",
      "text/latex": [
       "$\\displaystyle x{\\left(t \\right)} = \\left(1 - t\\right) \\cos{\\left(t \\right)} + \\sin{\\left(t \\right)}$"
      ],
      "text/plain": [
       "x(t) = (1 - t)⋅cos(t) + sin(t)"
      ]
     },
     "metadata": {},
     "output_type": "display_data"
    },
    {
     "name": "stdout",
     "output_type": "stream",
     "text": [
      "Tarkime x(0)=1 ir x(0)=-1.\n",
      "Tada pirma sąlyga:\n"
     ]
    },
    {
     "data": {
      "image/png": "[encoded data removed]",
      "text/latex": [
       "$\\displaystyle C_{1} = 1$"
      ],
      "text/plain": [
       "C₁ = 1"
      ]
     },
     "metadata": {},
     "output_type": "display_data"
    },
    {
     "name": "stdout",
     "output_type": "stream",
     "text": [
      "Tada antra sąlyga:\n"
     ]
    },
    {
     "data": {
      "image/png": "[encoded data removed]",
      "text/latex": [
       "$\\displaystyle C_{2} - 1 = -1$"
      ],
      "text/plain": [
       "C₂ - 1 = -1"
      ]
     },
     "metadata": {},
     "output_type": "display_data"
    },
    {
     "name": "stdout",
     "output_type": "stream",
     "text": [
      "Konstantų reikšmės:\n"
     ]
    },
    {
     "data": {
      "image/png": "[encoded data removed]",
      "text/latex": [
       "$\\displaystyle \\left\\{ C_{1} : 1, \\  C_{2} : 0\\right\\}$"
      ],
      "text/plain": [
       "{C₁: 1, C₂: 0}"
      ]
     },
     "metadata": {},
     "output_type": "display_data"
    },
    {
     "name": "stdout",
     "output_type": "stream",
     "text": [
      "Tikslusis sprendinys:\n"
     ]
    },
    {
     "data": {
      "image/png": "[encoded data removed]",
      "text/latex": [
       "$\\displaystyle x{\\left(t \\right)} = \\left(1 - t\\right) \\cos{\\left(t \\right)}$"
      ],
      "text/plain": [
       "x(t) = (1 - t)⋅cos(t)"
      ]
     },
     "metadata": {},
     "output_type": "display_data"
    },
    {
     "name": "stdout",
     "output_type": "stream",
     "text": [
      "------------------------------------------------------------------------------------------------------------------------\n"
     ]
    }
   ],
   "source": [
    "uždaviniai = {1:(2,1,0,0), 2:(1,1,0,0), 3:(0.5,1,0,0), 4:(0,1,0,0), 5:(0.5,1,2,3), 6:(1,1,2,3), 6:(1,1,2,3), 7:(2,1,2,3), 8:(0,1,2,3), 9:(0,1,2,1)}\n",
    "for užduotis in [list(uždaviniai)[-1]]:\n",
    "    spręsk_detaliai(uždaviniai[užduotis])"
   ]
  },
  {
   "cell_type": "markdown",
   "metadata": {},
   "source": [
    "Remiantis ankstesniu laboratoriniu darbu taip pat galima analogiškai aprašyti ir atskirų sprendinių braižymą:"
   ]
  },
  {
   "cell_type": "code",
   "execution_count": 105,
   "metadata": {},
   "outputs": [],
   "source": [
    "def brėžk_kreivę(parametrai, ics, fig=None, ax=None, xlim=[-20, 20], ylim=[-10, 10], step=0.03):\n",
    "    reikšmės = dict(zip([h,k,a,w], parametrai)) #pavyzdžiui: {h:2,k:1,a:0,w:0}\n",
    "    nauja_lygtis = eq.subs(reikšmės)\n",
    "    sprendinys = dsolve(nauja_lygtis)\n",
    "    sprendinio_išvestinė = Eq(diff(x(t)), sprendinys.rhs.diff(t))\n",
    "    sąlyga1 = Eq(sprendinys.rhs.subs(t, ics[0][0]), ics[0][1])\n",
    "    sąlyga2 = Eq(sprendinio_išvestinė.rhs.subs(t, ics[1][0]), ics[1][1])\n",
    "    konstantos = solve([sąlyga1,sąlyga2])\n",
    "    tikslus_sprendinys = sprendinys.subs(konstantos)\n",
    "    \n",
    "    if fig is None:\n",
    "        fig = plt.figure(figsize=(12, 2))\n",
    "    if ax is None:\n",
    "        ax = fig.gca()\n",
    "        ax.set_title(f'Lygtis ${latex(nauja_lygtis)}=0$')\n",
    "    ax.set_xlim(*xlim)\n",
    "    ax.set_ylim(*ylim)\n",
    "    \n",
    "    func = np.vectorize(lambdify(t, tikslus_sprendinys.rhs, 'numpy'))\n",
    "    X = np.arange(*xlim, step)\n",
    "    ax.plot(X, func(X), label=str(ics)+': $'+latex(tikslus_sprendinys.rhs)+'$')\n",
    "    return fig, ax"
   ]
  },
  {
   "cell_type": "markdown",
   "metadata": {},
   "source": [
    "Braižymo pavyzdys:"
   ]
  },
  {
   "cell_type": "code",
   "execution_count": 106,
   "metadata": {},
   "outputs": [
    {
     "data": {
      "image/png": "[encoded data removed]",
      "text/plain": [
       "<Figure size 864x144 with 1 Axes>"
      ]
     },
     "metadata": {
      "needs_background": "light"
     },
     "output_type": "display_data"
    }
   ],
   "source": [
    "fig, ax = brėžk_kreivę((0,1,2,1), [[0,1],[0,1]])\n",
    "fig, ax = brėžk_kreivę((0,1,2,1), [[0,1],[0,0]], fig, ax)\n",
    "fig, ax = brėžk_kreivę((0,1,2,1), [[0,1],[0,-1]], fig, ax)\n",
    "plt.legend()\n",
    "plt.show()"
   ]
  }
 ],
 "metadata": {
  "kernelspec": {
   "display_name": "Python 3",
   "language": "python",
   "name": "python3"
  },
  "language_info": {
   "codemirror_mode": {
    "name": "ipython",
    "version": 3
   },
   "file_extension": ".py",
   "mimetype": "text/x-python",
   "name": "python",
   "nbconvert_exporter": "python",
   "pygments_lexer": "ipython3",
   "version": "3.7.4"
  }
 },
 "nbformat": 4,
 "nbformat_minor": 2
}
