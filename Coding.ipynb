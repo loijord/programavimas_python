{
 "cells": [
  {
   "cell_type": "markdown",
   "id": "87d25d69",
   "metadata": {},
   "source": [
    "### Programavimas Python"
   ]
  },
  {
   "cell_type": "markdown",
   "id": "adea977b",
   "metadata": {},
   "source": [
    "Norint prasilaužti programavime, pirmiausia turėtume pramokti:"
   ]
  },
  {
   "cell_type": "markdown",
   "id": "a873252b",
   "metadata": {},
   "source": [
    "* `print` prasmė\n",
    "* ***kintamieji, jų tipai***\n",
    "* ***operacijos***\n",
    "* ***`if` sakinys***\n",
    "* ***`while` sakinys***\n",
    "* ***`for` sakinys***\n",
    "* ***klaidos***\n",
    "* ***funkcijos***\n",
    "* ***comprehension principas***"
   ]
  },
  {
   "cell_type": "markdown",
   "id": "d1e82c2f",
   "metadata": {},
   "source": [
    "### `print`"
   ]
  },
  {
   "cell_type": "markdown",
   "id": "5e1c808a",
   "metadata": {},
   "source": [
    "skirtas spausdinti kintamiesiems\n",
    "1) Kuo skiriasi paskutinės dvi eilutės?"
   ]
  },
  {
   "cell_type": "code",
   "execution_count": 28,
   "id": "a7a6dd55",
   "metadata": {},
   "outputs": [
    {
     "name": "stdout",
     "output_type": "stream",
     "text": [
      "I'm a hero\n",
      "35\n",
      "5*7\n"
     ]
    }
   ],
   "source": [
    "print(\"I'm a hero\")\n",
    "print(5*7)\n",
    "print('5*7')"
   ]
  },
  {
   "cell_type": "markdown",
   "id": "c6e9ca38",
   "metadata": {},
   "source": [
    "### Kintamieji ir jų tipai\n",
    "Čia pateiksiu dažniausiai naudojamus tipus\n",
    "2) Naudodami `type` komandą išsiaiškinkite šiuos tipus patys\n",
    "\n",
    "3) Sugalvokite kuo daugiau veikiančių komandų, kurios verčia vieną tipą į kitą\n",
    "\n",
    "4) Raskite kuo daugiau pavyzdžių, kai du kintamuosius leidžiama sudėti"
   ]
  },
  {
   "cell_type": "code",
   "execution_count": 54,
   "id": "481fd393",
   "metadata": {},
   "outputs": [],
   "source": [
    "a0 = 3.56\n",
    "a1 = 3\n",
    "a2 = 'ę'\n",
    "a3= [8,7,5]\n",
    "a4 = (8,6,7)\n",
    "a5 = set([8,7,5])\n",
    "a6 = {'I':'aš', 'can':'galiu', 'code':'programuoti'}\n",
    "\n",
    "import numpy as np\n",
    "a7 = np.array([7,8,9])\n",
    "\n",
    "class NewType:\n",
    "    def __init__(self, a, b, c):\n",
    "        self.a = a\n",
    "        self.b = b\n",
    "        self.c = c\n",
    "    def add(self, other):\n",
    "        return NewType(self.a+other.a, \n",
    "                       self.b+other.b,\n",
    "                       self.c+other.c)\n",
    "        \n",
    "a8 = NewType(7,8,9)\n",
    "\n",
    "def a9(x,y):\n",
    "    return x+y\n",
    "\n",
    "a10 = 6>7"
   ]
  },
  {
   "cell_type": "code",
   "execution_count": 55,
   "id": "6fb7b7f3",
   "metadata": {},
   "outputs": [
    {
     "data": {
      "text/plain": [
       "bool"
      ]
     },
     "execution_count": 55,
     "metadata": {},
     "output_type": "execute_result"
    }
   ],
   "source": [
    "type(a10)"
   ]
  },
  {
   "cell_type": "markdown",
   "id": "327698bb",
   "metadata": {},
   "source": [
    "### Operacijos, metodai, funkcijos\n",
    "Kiekvienas kintamasis turi tam tikrą rinkinį operacijų, metodų ir `built-in` funkcijų, ką su juo leidžiama daryti. \n",
    "\n",
    "5) Kiekvienam kintamajam suraskite bent po vieną operaciją, atliekamą tarp jo ir kito tokio paties kintamojo.\n",
    "\n",
    "6) Kokias [`built-in`](https://docs.python.org/3/library/functions.html) funkcijas leidžiama su juo daryti?\n",
    "\n",
    "7) Kokius metodus galima jam iškviesti, ką jie atlieka?\n",
    "\n",
    "Tarkime `a = [3,5,7]`\n",
    "* Operacijos pavyzdys: `a * 5`\n",
    "* Metodo pavyzdys: `a.append(5)`\n",
    "* Funkcijos/metodo pavyzdys: `tuple(a)`\n",
    "\n",
    "Tarkime `b = -3`\n",
    "* Operacijos pavyzdžiai: `b * 5`, `b%3`, `b/2`, `b//2`\n",
    "* Metodo pavyzdys: `b.append(5)`\n",
    "* Funkcijos/metodo pavyzdys: `b.bit_length()`"
   ]
  },
  {
   "cell_type": "markdown",
   "id": "64284646",
   "metadata": {},
   "source": [
    "### Kitos užduotėlės"
   ]
  },
  {
   "cell_type": "markdown",
   "id": "bcf88122",
   "metadata": {},
   "source": [
    "* Pavaizduokite kvadratinės lygties sprendimo schemą. Įvedami kintamieji $a$, $b$ ir $c$ yra kvadratinės lygties $ax^2+bx+c=0$ koeficientai, rezultatas - kintamieji $x1$ ir $x2$, kurie yra tos lygties sprendiniai.\n",
    "* Atspausdinkite visų skaičių nuo $n$ iki $m$ (įskaitytinai) kvadratus\n",
    "* Atspausdinkite visus kompiuteryje naudojamus simbolius nuo $n$ iki $m$\n",
    "* Atspausdinkite visus skaičius, mažesnius už $m$, kurie dalijasi iš 2, bet nesidalija iš 3.\n",
    "* Atspausdinkite visus pirminius skaičius, nedidesnius nei $m$`"
   ]
  },
  {
   "cell_type": "markdown",
   "id": "5f6a135f",
   "metadata": {},
   "source": [
    "### Funkcijos"
   ]
  },
  {
   "cell_type": "code",
   "execution_count": 7,
   "id": "1a7396ab",
   "metadata": {},
   "outputs": [],
   "source": [
    "def add(x, y):\n",
    "    return x+y"
   ]
  },
  {
   "cell_type": "markdown",
   "id": "da4d7432",
   "metadata": {},
   "source": [
    "### `if` sakinys"
   ]
  },
  {
   "cell_type": "code",
   "execution_count": null,
   "id": "858e0231",
   "metadata": {},
   "outputs": [],
   "source": [
    "def centuryFromYear(year):\n",
    "    if year%100 == 0:\n",
    "        return (year//100)\n",
    "    else:\n",
    "        return (year//100)+1\n",
    "    \n",
    "centuryFromYear(year)"
   ]
  },
  {
   "cell_type": "markdown",
   "id": "cde694ef",
   "metadata": {},
   "source": [
    "8) Parašykite funkciją, gražinančią rezultatą, gaunamą traukiant šaknį iš įvesto skaičiaus arba `str` tipo kintamąjį ,,Neleistina operacija\"\n",
    "\n",
    "9) Padarykite tą patį, naudodami `Exceptions`\n",
    "\n",
    "10) Parašykite funkciją, į kurią reikia įvesti kvadratinės lygties koeficientus ir kuri grąžina du sprendinius. Įtraukite ir atvejus, kai narys prie kvadrato yra nulinis arba diskriminantas neigiamas."
   ]
  }
 ],
 "metadata": {
  "kernelspec": {
   "display_name": "Python 3",
   "language": "python",
   "name": "python3"
  },
  "language_info": {
   "codemirror_mode": {
    "name": "ipython",
    "version": 3
   },
   "file_extension": ".py",
   "mimetype": "text/x-python",
   "name": "python",
   "nbconvert_exporter": "python",
   "pygments_lexer": "ipython3",
   "version": "3.8.8"
  }
 },
 "nbformat": 4,
 "nbformat_minor": 5
}
