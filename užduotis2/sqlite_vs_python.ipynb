{
 "cells": [
  {
   "cell_type": "markdown",
   "metadata": {},
   "source": [
    "Įvertinsime, kiek `sqlite3` yra spartus grupuojant duomenis. Uždavinys skamba taip: koks yra greičiausias būdas trimačių taškų masyvui grąžinti sutampančių taškų indeksus?\n",
    "\n",
    "Pavyzdžiui turint masyvą\n",
    "\n",
    "```cubes = np.array([[1233038, 8326521, 796], [1232105, 8327211, 822], [1233296, 8326274, 798], [1233296, 8326274, 798], [1233489, 8326333, 790], [1233038, 8326521, 796], [1233599, 8326360, 790], [1233489, 8326333, 790], [1233038, 8326521, 796], [1233038, 8326521, 796], [1233296, 8326274, 798], [1233489, 8326333, 790], [1233599, 8326360, 790], [1232105, 8327211, 822], [1232105, 8327211, 822], [1233678, 8326260, 821], [1233678, 8326260, 821], [1233599, 8326360, 790], [1232105, 8327211, 822], [1233296, 8326274, 798], [1233489, 8326333, 790], [1233599, 8326360, 790], [1233678, 8326260, 821], [1233678, 8326260, 821]])```\n",
    "\n",
    "grupės atrodo taip:\n",
    "\n",
    "```{(1232105, 8327211, 822): [1, 13, 14, 18]), \n",
    "(1233038, 8326521, 796): [0, 5, 8, 9], \n",
    "(1233296, 8326274, 798): [2, 3, 10, 19], \n",
    "(1233489, 8326333, 790): [4, 7, 11, 20], \n",
    "(1233599, 8326360, 790): [6, 12, 17, 21], \n",
    "(1233678, 8326260, 821): [15, 16, 22, 23]}```"
   ]
  },
  {
   "cell_type": "markdown",
   "metadata": {},
   "source": [
    "### Python: greičiausias įmanomas būdas su `pandas` + `numexpr` (0.2 sec)"
   ]
  },
  {
   "cell_type": "code",
   "execution_count": 71,
   "metadata": {},
   "outputs": [
    {
     "name": "stdout",
     "output_type": "stream",
     "text": [
      "TIME: 0.147\n",
      "RESULT:\n",
      "8117601110684167 -> [190350]\n",
      "8117601171155828 -> [278942]\n",
      "8117601183497013 -> [135429]\n",
      "8117601183497014 -> [132068]\n",
      "8117601184731130 -> [131403 133404]\n",
      "8117601189667451 -> [975861 976708]\n",
      "8117601189667453 -> [960602]\n",
      "8117601189667454 -> [954683 954684 955526 955527 956374 956375 957219 958063 958909 958910\n",
      " 959757]\n",
      "8117601189667455 -> [949596 951291]\n",
      "8117601190901570 -> [953841 953842 958065]\n",
      "8117601190901571 -> [946210 947060 947061 947904 948750 949597 949598 949599 950445 950446\n",
      " 951292 951293 952143 952144 952992]\n"
     ]
    }
   ],
   "source": [
    "import numexpr as ne\n",
    "import pandas as pd\n",
    "import numpy as np\n",
    "import time\n",
    "cubes = np.load('cubes.npz')['array'][:1000000]\n",
    "\n",
    "def to_indices_with_pandas(cubes):\n",
    "    def dimensionality_reduction(cubes):\n",
    "        # cubes = cubes - np.min(cubes, axis=0) #in case some coords are negative\n",
    "        cubes = cubes.astype(np.int64)\n",
    "        s0, s1 = cubes[:, 0].max() + 1, cubes[:, 1].max() + 1\n",
    "        d = {'s0': s0, 's1': s1, 'c0': cubes[:, 0], 'c1': cubes[:, 1], 'c2': cubes[:, 2]}\n",
    "        c1D = ne.evaluate('c0+c1*s0+c2*s0*s1', d)\n",
    "        return c1D\n",
    "\n",
    "    cubes = dimensionality_reduction(cubes)\n",
    "    result = pd.DataFrame(cubes).groupby([0]).indices\n",
    "    return result\n",
    "    \n",
    "t = time.time()\n",
    "idx = to_indices_with_pandas(cubes)\n",
    "print('TIME:', round(time.time()-t, 3))\n",
    "print('RESULT:',end='\\n')\n",
    "i = 0\n",
    "for n in idx:\n",
    "    print(f'{n} -> {idx[n]}')\n",
    "    i+=1\n",
    "    if i>10: break"
   ]
  },
  {
   "cell_type": "markdown",
   "metadata": {},
   "source": [
    "### Python: duomenų bazių panaudojimas su `sqlite3` (3.5 sec.)"
   ]
  },
  {
   "cell_type": "code",
   "execution_count": 72,
   "metadata": {},
   "outputs": [
    {
     "name": "stdout",
     "output_type": "stream",
     "text": [
      "initially: \n",
      " []\n",
      "after Create: \n",
      " []\n",
      "after Read: \n",
      " [('999811',), ('997286,998127,998128,998129,998966,998967,998968,998969,999812,999813,999814,999815',), ('994758,995602,995603,995604,996446,996447,996448,996449,997287,997288,997289,997290,998130,998131,998132,998133,998970,998971,998972,998973,999816,999817,999818,999819',), ('993918,994759,995605,996450,997291,998134,998974,999820',), ('998975,999821',), ('998137,998138,998976,998977,999822,999823,999824',), ('997296,997297,998139,998140,998978,998979,998980,999825,999826',), ('996457,997298,998141,998981,999827',), ('999797',), ('997274,998115,998116,998953,998954,998955,998956,999798,999799,999800',)]\n",
      "after Update: \n",
      " [(1234089, 8326079, -1), (1234094, 8326034, -1), (1234094, 8326034, -1), (1234094, 8326034, -1), (1234094, 8326034, -1)]\n",
      "after Delete: \n",
      " [(1234115, 8326157, 789), (1234115, 8326157, 789), (1234115, 8326157, 789), (1234115, 8326156, 789), (1234115, 8326157, 789)]\n",
      "after complete Delete: \n",
      " []\n",
      "TIME: 8.028\n",
      "RESULT: \n",
      " [('999811',), ('997286,998127,998128,998129,998966,998967,998968,998969,999812,999813,999814,999815',), ('994758,995602,995603,995604,996446,996447,996448,996449,997287,997288,997289,997290,998130,998131,998132,998133,998970,998971,998972,998973,999816,999817,999818,999819',), ('993918,994759,995605,996450,997291,998134,998974,999820',), ('998975,999821',), ('998137,998138,998976,998977,999822,999823,999824',), ('997296,997297,998139,998140,998978,998979,998980,999825,999826',), ('996457,997298,998141,998981,999827',), ('999797',), ('997274,998115,998116,998953,998954,998955,998956,999798,999799,999800',)]\n"
     ]
    }
   ],
   "source": [
    "import sqlite3\n",
    "\n",
    "def to_indices_with_sqlite(cubes):\n",
    "    cubes = cubes.tolist()\n",
    "    conn = sqlite3.connect('pointcloud.db')\n",
    "    c = conn.cursor()\n",
    "    c.execute('''DROP TABLE IF EXISTS points''')\n",
    "\n",
    "    \n",
    "    conn.commit(); print('initially:', '\\n', c.fetchall())\n",
    "\n",
    "    c.execute('''CREATE TABLE points(id integer primary key, x integer, y integer, z integer)''')\n",
    "    c.executemany('INSERT INTO points(x,y,z) VALUES (?, ?, ?)', cubes)\n",
    "    \n",
    "    conn.commit(); print('after Create:', '\\n', c.fetchall())\n",
    "    \n",
    "    c.execute('SELECT GROUP_CONCAT(id) FROM points GROUP BY x, y, z')\n",
    "    output = c.fetchall()\n",
    "    \n",
    "    conn.commit(); print('after Read:', '\\n', output[:10])\n",
    "    \n",
    "    c.execute('UPDATE points SET z=-1 WHERE z>800')\n",
    "    c.execute('SELECT x, y, z FROM points ORDER BY z LIMIT 5')\n",
    "    \n",
    "    conn.commit(); print('after Update:', '\\n', c.fetchall())\n",
    "    \n",
    "    c.execute('DELETE FROM points WHERE z=-1')\n",
    "    c.execute('SELECT x, y, z FROM points ORDER BY z LIMIT 5')\n",
    "    conn.commit(); print('after Delete:', '\\n', c.fetchall())\n",
    "    \n",
    "    c.execute('DELETE FROM points')\n",
    "    c.execute('SELECT x, y, z FROM points ORDER BY z LIMIT 5')\n",
    "    conn.commit(); print('after complete Delete:', '\\n', c.fetchall())\n",
    "    \n",
    "    c.execute('DROP TABLE points')\n",
    "    conn.commit() \n",
    "    conn.close()\n",
    "    return output\n",
    "\n",
    "t = time.time()\n",
    "idx = to_indices_with_sqlite(cubes)\n",
    "print('TIME:', round(time.time()-t, 3))\n",
    "print('RESULT: \\n', idx[:10])"
   ]
  },
  {
   "cell_type": "markdown",
   "metadata": {},
   "source": [
    "### Python: grupavimas naudojant standartines bibliotekas (1 sec.)"
   ]
  },
  {
   "cell_type": "code",
   "execution_count": 69,
   "metadata": {},
   "outputs": [
    {
     "name": "stdout",
     "output_type": "stream",
     "text": [
      "TIME: 0.964\n",
      "RESULT:\n",
      "b'\\xc3\\xd4\\x12\\x00\\r\\x0c\\x7f\\x00\\x15\\x03\\x00\\x00' -> [0, 1, 2, 4, 5, 8]\n",
      "b'\\xc3\\xd4\\x12\\x00\\x0c\\x0c\\x7f\\x00\\x15\\x03\\x00\\x00' -> [3, 6, 7, 11]\n",
      "b'\\xc2\\xd4\\x12\\x00\\r\\x0c\\x7f\\x00\\x15\\x03\\x00\\x00' -> [9, 13, 14, 20, 27, 28, 36, 45, 46, 57]\n",
      "b'\\xc3\\xd4\\x12\\x00\\x0b\\x0c\\x7f\\x00\\x15\\x03\\x00\\x00' -> [10, 15]\n",
      "b'\\xc2\\xd4\\x12\\x00\\x0c\\x0c\\x7f\\x00\\x15\\x03\\x00\\x00' -> [12, 17, 18, 19, 25, 26, 33, 34, 35, 43, 44, 54, 55, 56, 66]\n",
      "b'\\xc2\\xd4\\x12\\x00\\x0b\\x0c\\x7f\\x00\\x15\\x03\\x00\\x00' -> [16, 22, 23, 24, 30, 31, 32, 40, 41, 42, 52, 53, 64, 65, 77]\n",
      "b'\\xc2\\xd4\\x12\\x00\\n\\x0c\\x7f\\x00\\x15\\x03\\x00\\x00' -> [21, 29, 38, 39, 50, 51, 61, 62, 63, 74, 75, 76, 89]\n",
      "b'\\xc2\\xd4\\x12\\x00\\t\\x0c\\x7f\\x00\\x15\\x03\\x00\\x00' -> [37, 47, 48, 49, 58, 59, 60, 72, 73, 86, 87, 88, 103]\n",
      "b'\\xc1\\xd4\\x12\\x00\\x0c\\x0c\\x7f\\x00\\x15\\x03\\x00\\x00' -> [67, 80, 81, 94, 95, 96, 111, 112, 128, 129, 130, 146, 147, 148, 165, 166]\n",
      "b'\\xc1\\xd4\\x12\\x00\\r\\x0c\\x7f\\x00\\x15\\x03\\x00\\x00' -> [68, 69, 82, 97, 113, 114, 131, 149]\n",
      "b'\\xc2\\xd4\\x12\\x00\\x08\\x0c\\x7f\\x00\\x15\\x03\\x00\\x00' -> [70, 71, 84, 85, 101, 102, 118, 119]\n"
     ]
    }
   ],
   "source": [
    "from collections import defaultdict\n",
    "\n",
    "def to_indices_with_python(cubes):\n",
    "    res = defaultdict(list)\n",
    "    for idx, elem in enumerate(cubes):\n",
    "        res[elem.tobytes()].append(idx)\n",
    "    return res\n",
    "\n",
    "\n",
    "t = time.time()\n",
    "idx = to_indices_with_python(cubes)\n",
    "print('TIME:', round(time.time()-t, 3))\n",
    "print('RESULT:',end='\\n')\n",
    "i = 0\n",
    "for n in idx:\n",
    "    print(f'{n} -> {idx[n]}')\n",
    "    i+=1\n",
    "    if i>10: break"
   ]
  }
 ],
 "metadata": {
  "kernelspec": {
   "display_name": "Python 3",
   "language": "python",
   "name": "python3"
  },
  "language_info": {
   "codemirror_mode": {
    "name": "ipython",
    "version": 3
   },
   "file_extension": ".py",
   "mimetype": "text/x-python",
   "name": "python",
   "nbconvert_exporter": "python",
   "pygments_lexer": "ipython3",
   "version": "3.7.4"
  }
 },
 "nbformat": 4,
 "nbformat_minor": 2
}
